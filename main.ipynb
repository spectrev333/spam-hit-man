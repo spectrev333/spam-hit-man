{
 "cells": [
  {
   "cell_type": "markdown",
   "metadata": {},
   "source": [
    "# SPAM Hit Man\n",
    "\n",
    "Naive bayes approach to spam detection\n",
    "\n",
    "[Dataset](https://github.com/MWiechmann/enron_spam_data)"
   ]
  },
  {
   "cell_type": "code",
   "execution_count": 2,
   "metadata": {},
   "outputs": [],
   "source": [
    "import polars as pl\n",
    "\n",
    "df_spam = pl.read_csv(\"enron_spam_data.csv\")\n",
    "\n",
    "df_spam = df_spam.filter(pl.col(\"Message\").is_not_null())\n",
    "\n",
    "df_spam = df_spam.sample(fraction=1, shuffle=True)\n",
    "\n",
    "test_size = 5000\n",
    "\n",
    "df_test, df_train = df_spam.head(test_size), df_spam.tail(-test_size)"
   ]
  },
  {
   "cell_type": "markdown",
   "metadata": {},
   "source": [
    "## Most common words\n",
    "\n",
    "In the naive bayes approach the presence of a word is a Bernoulli variable.\n",
    "Each one of them conditionaly indipendent from one another, given the evidence.\n",
    "\n",
    "The evidence in this case is also referred to as the ground truth.\n",
    "\n",
    "The 'spam', 'ham' classification is the ground truth\n",
    "\n",
    "Here we take top 500 most common words to build the bayesian network, every word becomes a variable in the network"
   ]
  },
  {
   "cell_type": "code",
   "execution_count": 3,
   "metadata": {},
   "outputs": [],
   "source": [
    "most_common_words = pl.Series(\n",
    "    ' '.join(df_train['Message'].str.to_lowercase()).split()\n",
    ").value_counts()\n",
    "\n",
    "most_common_words = most_common_words.filter(pl.col('').str.contains(r'^\\w+$'))"
   ]
  },
  {
   "cell_type": "code",
   "execution_count": null,
   "metadata": {},
   "outputs": [
    {
     "data": {
      "text/html": [
       "<div><style>\n",
       ".dataframe > thead > tr,\n",
       ".dataframe > tbody > tr {\n",
       "  text-align: right;\n",
       "  white-space: pre-wrap;\n",
       "}\n",
       "</style>\n",
       "<small>shape: (500,)</small><table border=\"1\" class=\"dataframe\"><thead><tr><th></th></tr><tr><td>str</td></tr></thead><tbody><tr><td>&quot;only&quot;</td></tr><tr><td>&quot;mail&quot;</td></tr><tr><td>&quot;vince&quot;</td></tr><tr><td>&quot;over&quot;</td></tr><tr><td>&quot;what&quot;</td></tr><tr><td>&hellip;</td></tr><tr><td>&quot;45&quot;</td></tr><tr><td>&quot;commission&quot;</td></tr><tr><td>&quot;opportunity&quot;</td></tr><tr><td>&quot;really&quot;</td></tr><tr><td>&quot;earnings&quot;</td></tr></tbody></table></div>"
      ],
      "text/plain": [
       "shape: (500,)\n",
       "Series: '' [str]\n",
       "[\n",
       "\t\"only\"\n",
       "\t\"mail\"\n",
       "\t\"vince\"\n",
       "\t\"over\"\n",
       "\t\"what\"\n",
       "\t…\n",
       "\t\"45\"\n",
       "\t\"commission\"\n",
       "\t\"opportunity\"\n",
       "\t\"really\"\n",
       "\t\"earnings\"\n",
       "]"
      ]
     },
     "execution_count": 5,
     "metadata": {},
     "output_type": "execute_result"
    }
   ],
   "source": [
    "most_common_words['']\n",
    "top_words = most_common_words.sort('count', descending=True)[100:600][''] # cutting the \"tail\"\n",
    "top_words"
   ]
  },
  {
   "cell_type": "markdown",
   "metadata": {},
   "source": [
    "## Building and training the model\n",
    "\n",
    "idk"
   ]
  },
  {
   "cell_type": "code",
   "execution_count": 6,
   "metadata": {},
   "outputs": [],
   "source": [
    "parameter_training_dataset = df_train.with_columns(\n",
    "    pl.col('Message').str.contains(f\"{word}\").cast(pl.Int32).alias(word) for word in top_words\n",
    ")"
   ]
  },
  {
   "cell_type": "code",
   "execution_count": 7,
   "metadata": {},
   "outputs": [
    {
     "data": {
      "text/html": [
       "<div><style>\n",
       ".dataframe > thead > tr,\n",
       ".dataframe > tbody > tr {\n",
       "  text-align: right;\n",
       "  white-space: pre-wrap;\n",
       "}\n",
       "</style>\n",
       "<small>shape: (28_345, 505)</small><table border=\"1\" class=\"dataframe\"><thead><tr><th>Message ID</th><th>Subject</th><th>Message</th><th>Spam/Ham</th><th>Date</th><th>only</th><th>mail</th><th>vince</th><th>over</th><th>what</th><th>01</th><th>need</th><th>m</th><th>thanks</th><th>some</th><th>power</th><th>market</th><th>like</th><th>d</th><th>7</th><th>corp</th><th>www</th><th>should</th><th>o</th><th>into</th><th>re</th><th>stock</th><th>12</th><th>year</th><th>inc</th><th>6</th><th>could</th><th>just</th><th>8</th><th>who</th><th>30</th><th>sent</th><th>&hellip;</th><th>june</th><th>center</th><th>executive</th><th>required</th><th>expected</th><th>electricity</th><th>capital</th><th>done</th><th>reserved</th><th>case</th><th>type</th><th>action</th><th>read</th><th>chairman</th><th>increase</th><th>contracts</th><th>oo</th><th>80</th><th>capacity</th><th>better</th><th>private</th><th>public</th><th>el</th><th>edu</th><th>equity</th><th>na</th><th>paid</th><th>daily</th><th>department</th><th>material</th><th>steve</th><th>volume</th><th>45</th><th>commission</th><th>opportunity</th><th>really</th><th>earnings</th></tr><tr><td>i64</td><td>str</td><td>str</td><td>str</td><td>str</td><td>i32</td><td>i32</td><td>i32</td><td>i32</td><td>i32</td><td>i32</td><td>i32</td><td>i32</td><td>i32</td><td>i32</td><td>i32</td><td>i32</td><td>i32</td><td>i32</td><td>i32</td><td>i32</td><td>i32</td><td>i32</td><td>i32</td><td>i32</td><td>i32</td><td>i32</td><td>i32</td><td>i32</td><td>i32</td><td>i32</td><td>i32</td><td>i32</td><td>i32</td><td>i32</td><td>i32</td><td>i32</td><td>&hellip;</td><td>i32</td><td>i32</td><td>i32</td><td>i32</td><td>i32</td><td>i32</td><td>i32</td><td>i32</td><td>i32</td><td>i32</td><td>i32</td><td>i32</td><td>i32</td><td>i32</td><td>i32</td><td>i32</td><td>i32</td><td>i32</td><td>i32</td><td>i32</td><td>i32</td><td>i32</td><td>i32</td><td>i32</td><td>i32</td><td>i32</td><td>i32</td><td>i32</td><td>i32</td><td>i32</td><td>i32</td><td>i32</td><td>i32</td><td>i32</td><td>i32</td><td>i32</td><td>i32</td></tr></thead><tbody><tr><td>27380</td><td>&quot;failure notice&quot;</td><td>&quot;hi . this is the qmail - send …</td><td>&quot;spam&quot;</td><td>&quot;2005-07-19&quot;</td><td>0</td><td>1</td><td>0</td><td>0</td><td>0</td><td>0</td><td>0</td><td>1</td><td>0</td><td>0</td><td>0</td><td>0</td><td>0</td><td>1</td><td>1</td><td>0</td><td>0</td><td>0</td><td>1</td><td>0</td><td>1</td><td>0</td><td>0</td><td>0</td><td>1</td><td>1</td><td>0</td><td>1</td><td>1</td><td>0</td><td>1</td><td>0</td><td>&hellip;</td><td>0</td><td>0</td><td>0</td><td>0</td><td>0</td><td>0</td><td>0</td><td>0</td><td>0</td><td>0</td><td>1</td><td>0</td><td>1</td><td>0</td><td>0</td><td>0</td><td>1</td><td>1</td><td>0</td><td>0</td><td>0</td><td>0</td><td>1</td><td>0</td><td>0</td><td>1</td><td>0</td><td>0</td><td>0</td><td>0</td><td>0</td><td>0</td><td>1</td><td>0</td><td>0</td><td>0</td><td>0</td></tr><tr><td>7198</td><td>&quot;re : enron / stanford program&quot;</td><td>&quot;vince ,\n",
       "i will call paul racic…</td><td>&quot;ham&quot;</td><td>&quot;2000-10-10&quot;</td><td>0</td><td>0</td><td>1</td><td>0</td><td>0</td><td>0</td><td>0</td><td>1</td><td>1</td><td>0</td><td>0</td><td>0</td><td>0</td><td>1</td><td>1</td><td>0</td><td>0</td><td>0</td><td>1</td><td>0</td><td>1</td><td>0</td><td>1</td><td>0</td><td>1</td><td>0</td><td>0</td><td>0</td><td>0</td><td>0</td><td>0</td><td>1</td><td>&hellip;</td><td>0</td><td>0</td><td>0</td><td>0</td><td>0</td><td>0</td><td>0</td><td>0</td><td>0</td><td>0</td><td>0</td><td>0</td><td>0</td><td>0</td><td>0</td><td>0</td><td>0</td><td>0</td><td>0</td><td>0</td><td>0</td><td>0</td><td>0</td><td>0</td><td>0</td><td>0</td><td>0</td><td>0</td><td>1</td><td>0</td><td>0</td><td>0</td><td>0</td><td>0</td><td>0</td><td>0</td><td>0</td></tr><tr><td>18333</td><td>&quot;fwd : need meds xanaix | = v @…</td><td>&quot;we believe ordering medication…</td><td>&quot;spam&quot;</td><td>&quot;2004-02-10&quot;</td><td>0</td><td>0</td><td>0</td><td>0</td><td>0</td><td>0</td><td>0</td><td>1</td><td>0</td><td>0</td><td>0</td><td>0</td><td>0</td><td>1</td><td>0</td><td>0</td><td>0</td><td>1</td><td>1</td><td>0</td><td>1</td><td>0</td><td>0</td><td>0</td><td>0</td><td>0</td><td>0</td><td>0</td><td>0</td><td>0</td><td>0</td><td>0</td><td>&hellip;</td><td>0</td><td>0</td><td>0</td><td>0</td><td>0</td><td>0</td><td>0</td><td>0</td><td>0</td><td>0</td><td>0</td><td>0</td><td>0</td><td>0</td><td>0</td><td>0</td><td>0</td><td>0</td><td>0</td><td>0</td><td>1</td><td>0</td><td>1</td><td>0</td><td>0</td><td>1</td><td>0</td><td>0</td><td>0</td><td>0</td><td>0</td><td>0</td><td>0</td><td>0</td><td>0</td><td>0</td><td>0</td></tr><tr><td>20365</td><td>&quot;re : notice&quot;</td><td>&quot;fri , 12 nov 2004 19 : 52 : 05…</td><td>&quot;spam&quot;</td><td>&quot;2004-11-12&quot;</td><td>1</td><td>0</td><td>0</td><td>0</td><td>0</td><td>0</td><td>1</td><td>1</td><td>0</td><td>0</td><td>0</td><td>0</td><td>0</td><td>1</td><td>0</td><td>0</td><td>0</td><td>0</td><td>1</td><td>0</td><td>1</td><td>0</td><td>1</td><td>0</td><td>1</td><td>0</td><td>1</td><td>0</td><td>0</td><td>0</td><td>0</td><td>0</td><td>&hellip;</td><td>0</td><td>0</td><td>0</td><td>0</td><td>0</td><td>0</td><td>0</td><td>0</td><td>0</td><td>0</td><td>0</td><td>0</td><td>0</td><td>0</td><td>0</td><td>0</td><td>1</td><td>0</td><td>0</td><td>0</td><td>0</td><td>0</td><td>1</td><td>0</td><td>0</td><td>1</td><td>0</td><td>0</td><td>0</td><td>0</td><td>0</td><td>0</td><td>0</td><td>0</td><td>0</td><td>0</td><td>0</td></tr><tr><td>18554</td><td>&quot;2004 xp , adobe , autodesk , c…</td><td>&quot;same day shipping ( see site f…</td><td>&quot;spam&quot;</td><td>&quot;2004-03-26&quot;</td><td>1</td><td>1</td><td>0</td><td>0</td><td>0</td><td>0</td><td>0</td><td>1</td><td>0</td><td>0</td><td>1</td><td>0</td><td>0</td><td>1</td><td>1</td><td>0</td><td>0</td><td>0</td><td>1</td><td>0</td><td>1</td><td>0</td><td>0</td><td>0</td><td>0</td><td>0</td><td>0</td><td>0</td><td>1</td><td>1</td><td>0</td><td>0</td><td>&hellip;</td><td>0</td><td>0</td><td>0</td><td>0</td><td>0</td><td>0</td><td>0</td><td>0</td><td>1</td><td>0</td><td>0</td><td>0</td><td>0</td><td>0</td><td>0</td><td>0</td><td>1</td><td>0</td><td>0</td><td>0</td><td>0</td><td>0</td><td>1</td><td>0</td><td>0</td><td>1</td><td>0</td><td>0</td><td>0</td><td>0</td><td>0</td><td>0</td><td>0</td><td>0</td><td>0</td><td>0</td><td>0</td></tr><tr><td>&hellip;</td><td>&hellip;</td><td>&hellip;</td><td>&hellip;</td><td>&hellip;</td><td>&hellip;</td><td>&hellip;</td><td>&hellip;</td><td>&hellip;</td><td>&hellip;</td><td>&hellip;</td><td>&hellip;</td><td>&hellip;</td><td>&hellip;</td><td>&hellip;</td><td>&hellip;</td><td>&hellip;</td><td>&hellip;</td><td>&hellip;</td><td>&hellip;</td><td>&hellip;</td><td>&hellip;</td><td>&hellip;</td><td>&hellip;</td><td>&hellip;</td><td>&hellip;</td><td>&hellip;</td><td>&hellip;</td><td>&hellip;</td><td>&hellip;</td><td>&hellip;</td><td>&hellip;</td><td>&hellip;</td><td>&hellip;</td><td>&hellip;</td><td>&hellip;</td><td>&hellip;</td><td>&hellip;</td><td>&hellip;</td><td>&hellip;</td><td>&hellip;</td><td>&hellip;</td><td>&hellip;</td><td>&hellip;</td><td>&hellip;</td><td>&hellip;</td><td>&hellip;</td><td>&hellip;</td><td>&hellip;</td><td>&hellip;</td><td>&hellip;</td><td>&hellip;</td><td>&hellip;</td><td>&hellip;</td><td>&hellip;</td><td>&hellip;</td><td>&hellip;</td><td>&hellip;</td><td>&hellip;</td><td>&hellip;</td><td>&hellip;</td><td>&hellip;</td><td>&hellip;</td><td>&hellip;</td><td>&hellip;</td><td>&hellip;</td><td>&hellip;</td><td>&hellip;</td><td>&hellip;</td><td>&hellip;</td><td>&hellip;</td><td>&hellip;</td><td>&hellip;</td><td>&hellip;</td><td>&hellip;</td></tr><tr><td>12186</td><td>&quot;in case you didn &#x27; t notice&quot;</td><td>&quot;louise ,\n",
       "office depot has the …</td><td>&quot;ham&quot;</td><td>&quot;2001-07-16&quot;</td><td>0</td><td>0</td><td>0</td><td>0</td><td>0</td><td>0</td><td>0</td><td>1</td><td>0</td><td>0</td><td>0</td><td>0</td><td>0</td><td>1</td><td>1</td><td>0</td><td>0</td><td>0</td><td>1</td><td>0</td><td>1</td><td>0</td><td>0</td><td>0</td><td>1</td><td>1</td><td>0</td><td>0</td><td>1</td><td>0</td><td>0</td><td>0</td><td>&hellip;</td><td>0</td><td>0</td><td>0</td><td>0</td><td>0</td><td>0</td><td>0</td><td>0</td><td>0</td><td>0</td><td>0</td><td>0</td><td>0</td><td>0</td><td>0</td><td>0</td><td>0</td><td>1</td><td>0</td><td>0</td><td>0</td><td>0</td><td>0</td><td>0</td><td>0</td><td>0</td><td>0</td><td>0</td><td>0</td><td>0</td><td>0</td><td>0</td><td>1</td><td>0</td><td>0</td><td>0</td><td>0</td></tr><tr><td>9592</td><td>&quot;financial freedom&quot;</td><td>&quot;dear friend ,\n",
       "how would you li…</td><td>&quot;spam&quot;</td><td>&quot;2002-05-18&quot;</td><td>0</td><td>1</td><td>0</td><td>0</td><td>1</td><td>0</td><td>0</td><td>1</td><td>0</td><td>0</td><td>0</td><td>0</td><td>1</td><td>1</td><td>0</td><td>0</td><td>0</td><td>0</td><td>1</td><td>1</td><td>1</td><td>0</td><td>0</td><td>0</td><td>0</td><td>0</td><td>0</td><td>0</td><td>0</td><td>0</td><td>0</td><td>0</td><td>&hellip;</td><td>0</td><td>0</td><td>0</td><td>0</td><td>0</td><td>0</td><td>0</td><td>0</td><td>0</td><td>0</td><td>0</td><td>0</td><td>0</td><td>0</td><td>0</td><td>0</td><td>1</td><td>0</td><td>0</td><td>0</td><td>0</td><td>0</td><td>1</td><td>0</td><td>0</td><td>0</td><td>0</td><td>0</td><td>0</td><td>0</td><td>0</td><td>0</td><td>0</td><td>0</td><td>0</td><td>0</td><td>0</td></tr><tr><td>17468</td><td>&quot;schedule crawler : hourahead f…</td><td>&quot;start date : 12 / 26 / 01 ; ho…</td><td>&quot;ham&quot;</td><td>&quot;2001-12-26&quot;</td><td>0</td><td>0</td><td>0</td><td>0</td><td>0</td><td>1</td><td>0</td><td>1</td><td>0</td><td>0</td><td>0</td><td>0</td><td>0</td><td>1</td><td>0</td><td>0</td><td>0</td><td>0</td><td>1</td><td>0</td><td>1</td><td>0</td><td>1</td><td>0</td><td>0</td><td>1</td><td>0</td><td>0</td><td>0</td><td>0</td><td>0</td><td>0</td><td>&hellip;</td><td>0</td><td>0</td><td>0</td><td>1</td><td>0</td><td>0</td><td>0</td><td>0</td><td>0</td><td>0</td><td>0</td><td>0</td><td>0</td><td>0</td><td>0</td><td>0</td><td>0</td><td>0</td><td>0</td><td>0</td><td>0</td><td>0</td><td>0</td><td>1</td><td>0</td><td>0</td><td>0</td><td>0</td><td>0</td><td>0</td><td>0</td><td>0</td><td>0</td><td>0</td><td>0</td><td>0</td><td>0</td></tr><tr><td>8174</td><td>&quot;re : progress&quot;</td><td>&quot;steve ,\n",
       "thanks a lot . i think…</td><td>&quot;ham&quot;</td><td>&quot;2001-01-11&quot;</td><td>1</td><td>0</td><td>1</td><td>1</td><td>1</td><td>1</td><td>1</td><td>1</td><td>1</td><td>1</td><td>0</td><td>0</td><td>1</td><td>1</td><td>0</td><td>0</td><td>0</td><td>0</td><td>1</td><td>1</td><td>1</td><td>1</td><td>0</td><td>0</td><td>1</td><td>1</td><td>1</td><td>1</td><td>1</td><td>0</td><td>0</td><td>1</td><td>&hellip;</td><td>0</td><td>0</td><td>0</td><td>0</td><td>0</td><td>0</td><td>0</td><td>0</td><td>0</td><td>1</td><td>0</td><td>0</td><td>1</td><td>0</td><td>0</td><td>0</td><td>1</td><td>0</td><td>0</td><td>0</td><td>0</td><td>0</td><td>1</td><td>0</td><td>0</td><td>1</td><td>0</td><td>0</td><td>0</td><td>0</td><td>1</td><td>0</td><td>0</td><td>1</td><td>1</td><td>1</td><td>0</td></tr><tr><td>33367</td><td>&quot;don &#x27; t know how much you can …</td><td>&quot;with our quick and personalize…</td><td>&quot;spam&quot;</td><td>&quot;2005-07-02&quot;</td><td>0</td><td>0</td><td>0</td><td>1</td><td>0</td><td>0</td><td>0</td><td>1</td><td>0</td><td>0</td><td>1</td><td>0</td><td>0</td><td>1</td><td>0</td><td>0</td><td>0</td><td>0</td><td>1</td><td>0</td><td>1</td><td>0</td><td>0</td><td>0</td><td>1</td><td>1</td><td>1</td><td>0</td><td>0</td><td>0</td><td>0</td><td>0</td><td>&hellip;</td><td>0</td><td>0</td><td>0</td><td>0</td><td>0</td><td>0</td><td>0</td><td>0</td><td>0</td><td>1</td><td>0</td><td>0</td><td>0</td><td>0</td><td>0</td><td>0</td><td>1</td><td>0</td><td>0</td><td>0</td><td>0</td><td>0</td><td>1</td><td>0</td><td>0</td><td>1</td><td>0</td><td>0</td><td>0</td><td>0</td><td>0</td><td>0</td><td>0</td><td>0</td><td>0</td><td>0</td><td>0</td></tr></tbody></table></div>"
      ],
      "text/plain": [
       "shape: (28_345, 505)\n",
       "┌────────────┬────────────┬────────────┬──────────┬───┬────────────┬───────────┬────────┬──────────┐\n",
       "│ Message ID ┆ Subject    ┆ Message    ┆ Spam/Ham ┆ … ┆ commission ┆ opportuni ┆ really ┆ earnings │\n",
       "│ ---        ┆ ---        ┆ ---        ┆ ---      ┆   ┆ ---        ┆ ty        ┆ ---    ┆ ---      │\n",
       "│ i64        ┆ str        ┆ str        ┆ str      ┆   ┆ i32        ┆ ---       ┆ i32    ┆ i32      │\n",
       "│            ┆            ┆            ┆          ┆   ┆            ┆ i32       ┆        ┆          │\n",
       "╞════════════╪════════════╪════════════╪══════════╪═══╪════════════╪═══════════╪════════╪══════════╡\n",
       "│ 27380      ┆ failure    ┆ hi . this  ┆ spam     ┆ … ┆ 0          ┆ 0         ┆ 0      ┆ 0        │\n",
       "│            ┆ notice     ┆ is the     ┆          ┆   ┆            ┆           ┆        ┆          │\n",
       "│            ┆            ┆ qmail -    ┆          ┆   ┆            ┆           ┆        ┆          │\n",
       "│            ┆            ┆ send …     ┆          ┆   ┆            ┆           ┆        ┆          │\n",
       "│ 7198       ┆ re : enron ┆ vince ,    ┆ ham      ┆ … ┆ 0          ┆ 0         ┆ 0      ┆ 0        │\n",
       "│            ┆ / stanford ┆ i will     ┆          ┆   ┆            ┆           ┆        ┆          │\n",
       "│            ┆ program    ┆ call paul  ┆          ┆   ┆            ┆           ┆        ┆          │\n",
       "│            ┆            ┆ racic…     ┆          ┆   ┆            ┆           ┆        ┆          │\n",
       "│ 18333      ┆ fwd : need ┆ we believe ┆ spam     ┆ … ┆ 0          ┆ 0         ┆ 0      ┆ 0        │\n",
       "│            ┆ meds       ┆ ordering   ┆          ┆   ┆            ┆           ┆        ┆          │\n",
       "│            ┆ xanaix | = ┆ medication ┆          ┆   ┆            ┆           ┆        ┆          │\n",
       "│            ┆ v @…       ┆ …          ┆          ┆   ┆            ┆           ┆        ┆          │\n",
       "│ 20365      ┆ re :       ┆ fri , 12   ┆ spam     ┆ … ┆ 0          ┆ 0         ┆ 0      ┆ 0        │\n",
       "│            ┆ notice     ┆ nov 2004   ┆          ┆   ┆            ┆           ┆        ┆          │\n",
       "│            ┆            ┆ 19 : 52 :  ┆          ┆   ┆            ┆           ┆        ┆          │\n",
       "│            ┆            ┆ 05…        ┆          ┆   ┆            ┆           ┆        ┆          │\n",
       "│ 18554      ┆ 2004 xp ,  ┆ same day   ┆ spam     ┆ … ┆ 0          ┆ 0         ┆ 0      ┆ 0        │\n",
       "│            ┆ adobe ,    ┆ shipping ( ┆          ┆   ┆            ┆           ┆        ┆          │\n",
       "│            ┆ autodesk , ┆ see site   ┆          ┆   ┆            ┆           ┆        ┆          │\n",
       "│            ┆ c…         ┆ f…         ┆          ┆   ┆            ┆           ┆        ┆          │\n",
       "│ …          ┆ …          ┆ …          ┆ …        ┆ … ┆ …          ┆ …         ┆ …      ┆ …        │\n",
       "│ 12186      ┆ in case    ┆ louise ,   ┆ ham      ┆ … ┆ 0          ┆ 0         ┆ 0      ┆ 0        │\n",
       "│            ┆ you didn ' ┆ office     ┆          ┆   ┆            ┆           ┆        ┆          │\n",
       "│            ┆ t notice   ┆ depot has  ┆          ┆   ┆            ┆           ┆        ┆          │\n",
       "│            ┆            ┆ the …      ┆          ┆   ┆            ┆           ┆        ┆          │\n",
       "│ 9592       ┆ financial  ┆ dear       ┆ spam     ┆ … ┆ 0          ┆ 0         ┆ 0      ┆ 0        │\n",
       "│            ┆ freedom    ┆ friend ,   ┆          ┆   ┆            ┆           ┆        ┆          │\n",
       "│            ┆            ┆ how would  ┆          ┆   ┆            ┆           ┆        ┆          │\n",
       "│            ┆            ┆ you li…    ┆          ┆   ┆            ┆           ┆        ┆          │\n",
       "│ 17468      ┆ schedule   ┆ start date ┆ ham      ┆ … ┆ 0          ┆ 0         ┆ 0      ┆ 0        │\n",
       "│            ┆ crawler :  ┆ : 12 / 26  ┆          ┆   ┆            ┆           ┆        ┆          │\n",
       "│            ┆ hourahead  ┆ / 01 ; ho… ┆          ┆   ┆            ┆           ┆        ┆          │\n",
       "│            ┆ f…         ┆            ┆          ┆   ┆            ┆           ┆        ┆          │\n",
       "│ 8174       ┆ re :       ┆ steve ,    ┆ ham      ┆ … ┆ 1          ┆ 1         ┆ 1      ┆ 0        │\n",
       "│            ┆ progress   ┆ thanks a   ┆          ┆   ┆            ┆           ┆        ┆          │\n",
       "│            ┆            ┆ lot . i    ┆          ┆   ┆            ┆           ┆        ┆          │\n",
       "│            ┆            ┆ think…     ┆          ┆   ┆            ┆           ┆        ┆          │\n",
       "│ 33367      ┆ don ' t    ┆ with our   ┆ spam     ┆ … ┆ 0          ┆ 0         ┆ 0      ┆ 0        │\n",
       "│            ┆ know how   ┆ quick and  ┆          ┆   ┆            ┆           ┆        ┆          │\n",
       "│            ┆ much you   ┆ personaliz ┆          ┆   ┆            ┆           ┆        ┆          │\n",
       "│            ┆ can …      ┆ e…         ┆          ┆   ┆            ┆           ┆        ┆          │\n",
       "└────────────┴────────────┴────────────┴──────────┴───┴────────────┴───────────┴────────┴──────────┘"
      ]
     },
     "execution_count": 7,
     "metadata": {},
     "output_type": "execute_result"
    }
   ],
   "source": [
    "parameter_training_dataset"
   ]
  },
  {
   "cell_type": "code",
   "execution_count": 8,
   "metadata": {},
   "outputs": [
    {
     "data": {
      "text/html": [
       "<div><style>\n",
       ".dataframe > thead > tr,\n",
       ".dataframe > tbody > tr {\n",
       "  text-align: right;\n",
       "  white-space: pre-wrap;\n",
       "}\n",
       "</style>\n",
       "<small>shape: (2, 501)</small><table border=\"1\" class=\"dataframe\"><thead><tr><th>Spam/Ham</th><th>count_only</th><th>count_mail</th><th>count_vince</th><th>count_over</th><th>count_what</th><th>count_01</th><th>count_need</th><th>count_m</th><th>count_thanks</th><th>count_some</th><th>count_power</th><th>count_market</th><th>count_like</th><th>count_d</th><th>count_7</th><th>count_corp</th><th>count_www</th><th>count_should</th><th>count_o</th><th>count_into</th><th>count_re</th><th>count_stock</th><th>count_12</th><th>count_year</th><th>count_inc</th><th>count_6</th><th>count_could</th><th>count_just</th><th>count_8</th><th>count_who</th><th>count_30</th><th>count_sent</th><th>count_were</th><th>count_deal</th><th>count_statements</th><th>count_report</th><th>&hellip;</th><th>count_june</th><th>count_center</th><th>count_executive</th><th>count_required</th><th>count_expected</th><th>count_electricity</th><th>count_capital</th><th>count_done</th><th>count_reserved</th><th>count_case</th><th>count_type</th><th>count_action</th><th>count_read</th><th>count_chairman</th><th>count_increase</th><th>count_contracts</th><th>count_oo</th><th>count_80</th><th>count_capacity</th><th>count_better</th><th>count_private</th><th>count_public</th><th>count_el</th><th>count_edu</th><th>count_equity</th><th>count_na</th><th>count_paid</th><th>count_daily</th><th>count_department</th><th>count_material</th><th>count_steve</th><th>count_volume</th><th>count_45</th><th>count_commission</th><th>count_opportunity</th><th>count_really</th><th>count_earnings</th></tr><tr><td>str</td><td>i32</td><td>i32</td><td>i32</td><td>i32</td><td>i32</td><td>i32</td><td>i32</td><td>i32</td><td>i32</td><td>i32</td><td>i32</td><td>i32</td><td>i32</td><td>i32</td><td>i32</td><td>i32</td><td>i32</td><td>i32</td><td>i32</td><td>i32</td><td>i32</td><td>i32</td><td>i32</td><td>i32</td><td>i32</td><td>i32</td><td>i32</td><td>i32</td><td>i32</td><td>i32</td><td>i32</td><td>i32</td><td>i32</td><td>i32</td><td>i32</td><td>i32</td><td>&hellip;</td><td>i32</td><td>i32</td><td>i32</td><td>i32</td><td>i32</td><td>i32</td><td>i32</td><td>i32</td><td>i32</td><td>i32</td><td>i32</td><td>i32</td><td>i32</td><td>i32</td><td>i32</td><td>i32</td><td>i32</td><td>i32</td><td>i32</td><td>i32</td><td>i32</td><td>i32</td><td>i32</td><td>i32</td><td>i32</td><td>i32</td><td>i32</td><td>i32</td><td>i32</td><td>i32</td><td>i32</td><td>i32</td><td>i32</td><td>i32</td><td>i32</td><td>i32</td><td>i32</td></tr></thead><tbody><tr><td>&quot;spam&quot;</td><td>2941</td><td>5134</td><td>185</td><td>4042</td><td>2090</td><td>1413</td><td>2701</td><td>14044</td><td>1045</td><td>2528</td><td>1180</td><td>1641</td><td>2587</td><td>14051</td><td>5461</td><td>946</td><td>2444</td><td>1683</td><td>14251</td><td>1925</td><td>13660</td><td>1184</td><td>2059</td><td>1803</td><td>5289</td><td>5462</td><td>1387</td><td>2501</td><td>5275</td><td>2146</td><td>2228</td><td>2702</td><td>1334</td><td>1119</td><td>639</td><td>1192</td><td>&hellip;</td><td>274</td><td>508</td><td>211</td><td>656</td><td>386</td><td>75</td><td>332</td><td>572</td><td>198</td><td>555</td><td>624</td><td>1707</td><td>2332</td><td>118</td><td>1065</td><td>164</td><td>7988</td><td>1587</td><td>62</td><td>583</td><td>849</td><td>977</td><td>10585</td><td>1064</td><td>269</td><td>9112</td><td>772</td><td>242</td><td>578</td><td>898</td><td>81</td><td>238</td><td>1192</td><td>263</td><td>514</td><td>548</td><td>94</td></tr><tr><td>&quot;ham&quot;</td><td>1732</td><td>3145</td><td>2494</td><td>2954</td><td>2545</td><td>5787</td><td>3629</td><td>13363</td><td>4572</td><td>3194</td><td>1769</td><td>2037</td><td>2926</td><td>13753</td><td>7391</td><td>2710</td><td>935</td><td>2651</td><td>13888</td><td>1837</td><td>12504</td><td>400</td><td>3486</td><td>1888</td><td>5620</td><td>7068</td><td>1925</td><td>2205</td><td>7246</td><td>2367</td><td>2941</td><td>4091</td><td>1676</td><td>2304</td><td>140</td><td>1589</td><td>&hellip;</td><td>751</td><td>575</td><td>574</td><td>744</td><td>503</td><td>403</td><td>544</td><td>877</td><td>241</td><td>779</td><td>708</td><td>1308</td><td>2133</td><td>375</td><td>598</td><td>591</td><td>6442</td><td>1263</td><td>573</td><td>629</td><td>264</td><td>652</td><td>9893</td><td>3515</td><td>316</td><td>9521</td><td>374</td><td>758</td><td>603</td><td>418</td><td>1025</td><td>1101</td><td>1467</td><td>341</td><td>623</td><td>587</td><td>218</td></tr></tbody></table></div>"
      ],
      "text/plain": [
       "shape: (2, 501)\n",
       "┌──────────┬───────────┬───────────┬───────────┬───┬───────────┬───────────┬───────────┬───────────┐\n",
       "│ Spam/Ham ┆ count_onl ┆ count_mai ┆ count_vin ┆ … ┆ count_com ┆ count_opp ┆ count_rea ┆ count_ear │\n",
       "│ ---      ┆ y         ┆ l         ┆ ce        ┆   ┆ mission   ┆ ortunity  ┆ lly       ┆ nings     │\n",
       "│ str      ┆ ---       ┆ ---       ┆ ---       ┆   ┆ ---       ┆ ---       ┆ ---       ┆ ---       │\n",
       "│          ┆ i32       ┆ i32       ┆ i32       ┆   ┆ i32       ┆ i32       ┆ i32       ┆ i32       │\n",
       "╞══════════╪═══════════╪═══════════╪═══════════╪═══╪═══════════╪═══════════╪═══════════╪═══════════╡\n",
       "│ spam     ┆ 2941      ┆ 5134      ┆ 185       ┆ … ┆ 263       ┆ 514       ┆ 548       ┆ 94        │\n",
       "│ ham      ┆ 1732      ┆ 3145      ┆ 2494      ┆ … ┆ 341       ┆ 623       ┆ 587       ┆ 218       │\n",
       "└──────────┴───────────┴───────────┴───────────┴───┴───────────┴───────────┴───────────┴───────────┘"
      ]
     },
     "execution_count": 8,
     "metadata": {},
     "output_type": "execute_result"
    }
   ],
   "source": [
    "word_counts = parameter_training_dataset.group_by('Spam/Ham').agg(\n",
    "    pl.sum(word).alias(f'count_{word}') for word in top_words\n",
    ")\n",
    "word_counts"
   ]
  },
  {
   "cell_type": "code",
   "execution_count": 9,
   "metadata": {},
   "outputs": [
    {
     "data": {
      "text/html": [
       "<div><style>\n",
       ".dataframe > thead > tr,\n",
       ".dataframe > tbody > tr {\n",
       "  text-align: right;\n",
       "  white-space: pre-wrap;\n",
       "}\n",
       "</style>\n",
       "<small>shape: (2, 1_001)</small><table border=\"1\" class=\"dataframe\"><thead><tr><th>Spam/Ham</th><th>count_only</th><th>count_mail</th><th>count_vince</th><th>count_over</th><th>count_what</th><th>count_01</th><th>count_need</th><th>count_m</th><th>count_thanks</th><th>count_some</th><th>count_power</th><th>count_market</th><th>count_like</th><th>count_d</th><th>count_7</th><th>count_corp</th><th>count_www</th><th>count_should</th><th>count_o</th><th>count_into</th><th>count_re</th><th>count_stock</th><th>count_12</th><th>count_year</th><th>count_inc</th><th>count_6</th><th>count_could</th><th>count_just</th><th>count_8</th><th>count_who</th><th>count_30</th><th>count_sent</th><th>count_were</th><th>count_deal</th><th>count_statements</th><th>count_report</th><th>&hellip;</th><th>june</th><th>center</th><th>executive</th><th>required</th><th>expected</th><th>electricity</th><th>capital</th><th>done</th><th>reserved</th><th>case</th><th>type</th><th>action</th><th>read</th><th>chairman</th><th>increase</th><th>contracts</th><th>oo</th><th>80</th><th>capacity</th><th>better</th><th>private</th><th>public</th><th>el</th><th>edu</th><th>equity</th><th>na</th><th>paid</th><th>daily</th><th>department</th><th>material</th><th>steve</th><th>volume</th><th>45</th><th>commission</th><th>opportunity</th><th>really</th><th>earnings</th></tr><tr><td>str</td><td>i32</td><td>i32</td><td>i32</td><td>i32</td><td>i32</td><td>i32</td><td>i32</td><td>i32</td><td>i32</td><td>i32</td><td>i32</td><td>i32</td><td>i32</td><td>i32</td><td>i32</td><td>i32</td><td>i32</td><td>i32</td><td>i32</td><td>i32</td><td>i32</td><td>i32</td><td>i32</td><td>i32</td><td>i32</td><td>i32</td><td>i32</td><td>i32</td><td>i32</td><td>i32</td><td>i32</td><td>i32</td><td>i32</td><td>i32</td><td>i32</td><td>i32</td><td>&hellip;</td><td>f64</td><td>f64</td><td>f64</td><td>f64</td><td>f64</td><td>f64</td><td>f64</td><td>f64</td><td>f64</td><td>f64</td><td>f64</td><td>f64</td><td>f64</td><td>f64</td><td>f64</td><td>f64</td><td>f64</td><td>f64</td><td>f64</td><td>f64</td><td>f64</td><td>f64</td><td>f64</td><td>f64</td><td>f64</td><td>f64</td><td>f64</td><td>f64</td><td>f64</td><td>f64</td><td>f64</td><td>f64</td><td>f64</td><td>f64</td><td>f64</td><td>f64</td><td>f64</td></tr></thead><tbody><tr><td>&quot;spam&quot;</td><td>2941</td><td>5134</td><td>185</td><td>4042</td><td>2090</td><td>1413</td><td>2701</td><td>14044</td><td>1045</td><td>2528</td><td>1180</td><td>1641</td><td>2587</td><td>14051</td><td>5461</td><td>946</td><td>2444</td><td>1683</td><td>14251</td><td>1925</td><td>13660</td><td>1184</td><td>2059</td><td>1803</td><td>5289</td><td>5462</td><td>1387</td><td>2501</td><td>5275</td><td>2146</td><td>2228</td><td>2702</td><td>1334</td><td>1119</td><td>639</td><td>1192</td><td>&hellip;</td><td>0.019186</td><td>0.035512</td><td>0.014791</td><td>0.045838</td><td>0.027001</td><td>0.005302</td><td>0.023233</td><td>0.039978</td><td>0.013884</td><td>0.038792</td><td>0.043606</td><td>0.119166</td><td>0.162771</td><td>0.008303</td><td>0.074374</td><td>0.011512</td><td>0.557385</td><td>0.110793</td><td>0.004395</td><td>0.040745</td><td>0.059304</td><td>0.068234</td><td>0.738575</td><td>0.074304</td><td>0.018838</td><td>0.635805</td><td>0.053931</td><td>0.016954</td><td>0.040396</td><td>0.062722</td><td>0.005721</td><td>0.016675</td><td>0.083234</td><td>0.018419</td><td>0.035931</td><td>0.038303</td><td>0.006628</td></tr><tr><td>&quot;ham&quot;</td><td>1732</td><td>3145</td><td>2494</td><td>2954</td><td>2545</td><td>5787</td><td>3629</td><td>13363</td><td>4572</td><td>3194</td><td>1769</td><td>2037</td><td>2926</td><td>13753</td><td>7391</td><td>2710</td><td>935</td><td>2651</td><td>13888</td><td>1837</td><td>12504</td><td>400</td><td>3486</td><td>1888</td><td>5620</td><td>7068</td><td>1925</td><td>2205</td><td>7246</td><td>2367</td><td>2941</td><td>4091</td><td>1676</td><td>2304</td><td>140</td><td>1589</td><td>&hellip;</td><td>0.053653</td><td>0.041096</td><td>0.041025</td><td>0.053154</td><td>0.035959</td><td>0.028824</td><td>0.038884</td><td>0.062643</td><td>0.017266</td><td>0.055651</td><td>0.050585</td><td>0.093393</td><td>0.152255</td><td>0.026826</td><td>0.042737</td><td>0.042237</td><td>0.459689</td><td>0.090183</td><td>0.040953</td><td>0.044949</td><td>0.018907</td><td>0.04659</td><td>0.705908</td><td>0.250856</td><td>0.022617</td><td>0.679366</td><td>0.026755</td><td>0.054152</td><td>0.043094</td><td>0.029894</td><td>0.073202</td><td>0.078624</td><td>0.104737</td><td>0.024401</td><td>0.044521</td><td>0.041952</td><td>0.015625</td></tr></tbody></table></div>"
      ],
      "text/plain": [
       "shape: (2, 1_001)\n",
       "┌──────────┬────────────┬────────────┬───────────┬───┬───────────┬───────────┬──────────┬──────────┐\n",
       "│ Spam/Ham ┆ count_only ┆ count_mail ┆ count_vin ┆ … ┆ commissio ┆ opportuni ┆ really   ┆ earnings │\n",
       "│ ---      ┆ ---        ┆ ---        ┆ ce        ┆   ┆ n         ┆ ty        ┆ ---      ┆ ---      │\n",
       "│ str      ┆ i32        ┆ i32        ┆ ---       ┆   ┆ ---       ┆ ---       ┆ f64      ┆ f64      │\n",
       "│          ┆            ┆            ┆ i32       ┆   ┆ f64       ┆ f64       ┆          ┆          │\n",
       "╞══════════╪════════════╪════════════╪═══════════╪═══╪═══════════╪═══════════╪══════════╪══════════╡\n",
       "│ spam     ┆ 2941       ┆ 5134       ┆ 185       ┆ … ┆ 0.018419  ┆ 0.035931  ┆ 0.038303 ┆ 0.006628 │\n",
       "│ ham      ┆ 1732       ┆ 3145       ┆ 2494      ┆ … ┆ 0.024401  ┆ 0.044521  ┆ 0.041952 ┆ 0.015625 │\n",
       "└──────────┴────────────┴────────────┴───────────┴───┴───────────┴───────────┴──────────┴──────────┘"
      ]
     },
     "execution_count": 9,
     "metadata": {},
     "output_type": "execute_result"
    }
   ],
   "source": [
    "totals = parameter_training_dataset.group_by('Spam/Ham').len().rename({\"len\": \"total\"})\n",
    "\n",
    "parameter_training_dataset = word_counts.join(totals, on='Spam/Ham')\n",
    "\n",
    "# column naming is not very intuitive, but \"melts\" better\n",
    "# +1 and +2 terms are used for Laplace Smoothing, assuming uniform probability\n",
    "parameter_training_dataset = parameter_training_dataset.with_columns(\n",
    "    (\n",
    "        (pl.col(f\"count_{word}\") + 1) / \n",
    "        (pl.col(\"total\") + 2 )\n",
    "    ).alias(f\"{word}\") for word in top_words\n",
    ")\n",
    "\n",
    "parameter_training_dataset"
   ]
  },
  {
   "cell_type": "code",
   "execution_count": 10,
   "metadata": {},
   "outputs": [
    {
     "data": {
      "text/html": [
       "<div><style>\n",
       ".dataframe > thead > tr,\n",
       ".dataframe > tbody > tr {\n",
       "  text-align: right;\n",
       "  white-space: pre-wrap;\n",
       "}\n",
       "</style>\n",
       "<small>shape: (500, 3)</small><table border=\"1\" class=\"dataframe\"><thead><tr><th>word</th><th>spam</th><th>ham</th></tr><tr><td>str</td><td>f64</td><td>f64</td></tr></thead><tbody><tr><td>&quot;only&quot;</td><td>0.205261</td><td>0.123644</td></tr><tr><td>&quot;mail&quot;</td><td>0.358264</td><td>0.224458</td></tr><tr><td>&quot;vince&quot;</td><td>0.012977</td><td>0.178011</td></tr><tr><td>&quot;over&quot;</td><td>0.282076</td><td>0.21083</td></tr><tr><td>&quot;what&quot;</td><td>0.145887</td><td>0.18165</td></tr><tr><td>&hellip;</td><td>&hellip;</td><td>&hellip;</td></tr><tr><td>&quot;45&quot;</td><td>0.083234</td><td>0.104737</td></tr><tr><td>&quot;commission&quot;</td><td>0.018419</td><td>0.024401</td></tr><tr><td>&quot;opportunity&quot;</td><td>0.035931</td><td>0.044521</td></tr><tr><td>&quot;really&quot;</td><td>0.038303</td><td>0.041952</td></tr><tr><td>&quot;earnings&quot;</td><td>0.006628</td><td>0.015625</td></tr></tbody></table></div>"
      ],
      "text/plain": [
       "shape: (500, 3)\n",
       "┌─────────────┬──────────┬──────────┐\n",
       "│ word        ┆ spam     ┆ ham      │\n",
       "│ ---         ┆ ---      ┆ ---      │\n",
       "│ str         ┆ f64      ┆ f64      │\n",
       "╞═════════════╪══════════╪══════════╡\n",
       "│ only        ┆ 0.205261 ┆ 0.123644 │\n",
       "│ mail        ┆ 0.358264 ┆ 0.224458 │\n",
       "│ vince       ┆ 0.012977 ┆ 0.178011 │\n",
       "│ over        ┆ 0.282076 ┆ 0.21083  │\n",
       "│ what        ┆ 0.145887 ┆ 0.18165  │\n",
       "│ …           ┆ …        ┆ …        │\n",
       "│ 45          ┆ 0.083234 ┆ 0.104737 │\n",
       "│ commission  ┆ 0.018419 ┆ 0.024401 │\n",
       "│ opportunity ┆ 0.035931 ┆ 0.044521 │\n",
       "│ really      ┆ 0.038303 ┆ 0.041952 │\n",
       "│ earnings    ┆ 0.006628 ┆ 0.015625 │\n",
       "└─────────────┴──────────┴──────────┘"
      ]
     },
     "execution_count": 10,
     "metadata": {},
     "output_type": "execute_result"
    }
   ],
   "source": [
    "probabilities = parameter_training_dataset.select([\n",
    "    \"Spam/Ham\", *[ f\"{word}\" for word in top_words ]\n",
    "    ])\n",
    "\n",
    "probabilities = probabilities.unpivot(index=\"Spam/Ham\", variable_name=\"word\").pivot(\"Spam/Ham\", index=\"word\")\n",
    "\n",
    "probabilities"
   ]
  },
  {
   "cell_type": "markdown",
   "metadata": {},
   "source": [
    "# Testing the model\n",
    "\n",
    "fitting is done, now its time to test the model\n",
    "\n",
    "> Note: apparently writing a funtion that does the prediction is terribly inefficent.\n",
    "> This is probably due to how python handles passig parameters around."
   ]
  },
  {
   "cell_type": "code",
   "execution_count": 11,
   "metadata": {},
   "outputs": [],
   "source": [
    "import numpy as np\n",
    "\n",
    "total_emails = df_spam.shape[0]\n",
    "\n",
    "spam_emails = totals.filter(pl.col(\"Spam/Ham\") == \"spam\").select(\"total\").row(0)[0]\n",
    "\n",
    "p_spam = spam_emails/total_emails\n",
    "\n",
    "p_ham = 1 - p_spam"
   ]
  },
  {
   "cell_type": "code",
   "execution_count": 26,
   "metadata": {},
   "outputs": [
    {
     "name": "stdout",
     "output_type": "stream",
     "text": [
      "shape: (1, 5)\n",
      "┌────────────┬─────────────────────────────────┬─────────────────────┬──────────┬────────────┐\n",
      "│ Message ID ┆ Subject                         ┆ Message             ┆ Spam/Ham ┆ Date       │\n",
      "│ ---        ┆ ---                             ┆ ---                 ┆ ---      ┆ ---        │\n",
      "│ i64        ┆ str                             ┆ str                 ┆ str      ┆ str        │\n",
      "╞════════════╪═════════════════════════════════╪═════════════════════╪══════════╪════════════╡\n",
      "│ 19439      ┆ tpntfhb up ~ d _ ate : medi ~ … ┆ boorgaten bekorstte ┆ spam     ┆ 2004-07-26 │\n",
      "│            ┆                                 ┆ aggregaat           ┆          ┆            │\n",
      "│            ┆                                 ┆ …                   ┆          ┆            │\n",
      "└────────────┴─────────────────────────────────┴─────────────────────┴──────────┴────────────┘\n",
      "Ground Truth: spam\n",
      "---\n",
      "Spam Score: -60.06694277371278\n",
      "Ham Score : -54.58877083500348\n",
      "Computed spam probability: 3.3252677253236977e-06\n",
      "Verdict: ham\n"
     ]
    }
   ],
   "source": [
    "email_text = df_test.sample()\n",
    "\n",
    "print(email_text)\n",
    "\n",
    "print(f\"Ground Truth: {email_text[\"Spam/Ham\"][0]}\\n---\")\n",
    "\n",
    "words = pl.Series(\n",
    "    ' '.join(email_text['Message'].str.to_lowercase()).split()\n",
    ")\n",
    "\n",
    "spam_score = np.log(p_spam)\n",
    "\n",
    "ham_score = np.log(p_ham)\n",
    "\n",
    "for word in words:\n",
    "    word_probs = probabilities.filter(pl.col(\"word\") == word)\n",
    "    if not word_probs.is_empty():\n",
    "        P_word_spam = word_probs[\"spam\"][0]\n",
    "        P_word_ham = word_probs[\"ham\"][0]\n",
    "        spam_score += np.log(P_word_spam)\n",
    "        ham_score += np.log(P_word_ham)\n",
    "\n",
    "print(f\"Spam Score: {spam_score}\")\n",
    "print(f\"Ham Score : {ham_score}\")\n",
    "\n",
    "spam_probability = np.pow(10, spam_score) / (np.pow(10, spam_score) + np.pow(10, ham_score))\n",
    "\n",
    "print(f\"Computed spam probability: {spam_probability}\")\n",
    "print(f\"Verdict: {\"spam\" if spam_score > ham_score else \"ham\"}\")"
   ]
  },
  {
   "cell_type": "markdown",
   "metadata": {},
   "source": [
    "# Accuracy calculation\n",
    "\n",
    "Lets see how good is this\n",
    "\n",
    "> Note: as said before a function that does the prediction runs at `<10 it/s` however the approach below goes up to `50ish it/s` (likely just a skill issue)"
   ]
  },
  {
   "cell_type": "code",
   "execution_count": 28,
   "metadata": {},
   "outputs": [
    {
     "name": "stderr",
     "output_type": "stream",
     "text": [
      "0it [00:00, ?it/s]"
     ]
    },
    {
     "name": "stderr",
     "output_type": "stream",
     "text": [
      "5000it [01:53, 44.18it/s]"
     ]
    },
    {
     "name": "stdout",
     "output_type": "stream",
     "text": [
      "Accuracy: 0.8724\n"
     ]
    },
    {
     "name": "stderr",
     "output_type": "stream",
     "text": [
      "\n"
     ]
    }
   ],
   "source": [
    "from tqdm import tqdm\n",
    "\n",
    "email_text = df_test.sample()\n",
    "\n",
    "#print(email_text)\n",
    "\n",
    "#print(f\"Ground Truth: {email_text['Spam/Ham'][0]}\\n---\")\n",
    "\n",
    "#predict(probabilities, email_text['Message'].str.to_lowercase().item(), p_spam)\n",
    "\n",
    "num_correct = 0\n",
    "total = len(df_test)\n",
    "\n",
    "#print(f\"Total emails in test set: {total}\")\n",
    "\n",
    "for email in tqdm(df_test.iter_rows()):\n",
    "    ground_truth = email[3]\n",
    "    email_message = email[2].lower()\n",
    "    words = set(email_message.split())\n",
    "    \n",
    "    spam_score = np.log(p_spam)\n",
    "    ham_score = np.log(p_ham)\n",
    "    \n",
    "    for word in words:\n",
    "        word_probs = probabilities.filter(pl.col(\"word\") == word)\n",
    "        if not word_probs.is_empty():\n",
    "            P_word_spam = word_probs[\"spam\"][0]\n",
    "            P_word_ham = word_probs[\"ham\"][0]\n",
    "            spam_score += np.log(P_word_spam)\n",
    "            ham_score += np.log(P_word_ham)\n",
    "    \n",
    "    verdict = \"spam\" if spam_score > ham_score else \"ham\"\n",
    "    if verdict == ground_truth:\n",
    "        num_correct += 1\n",
    "\n",
    "print(f\"Accuracy: {num_correct/total}\")"
   ]
  }
 ],
 "metadata": {
  "kernelspec": {
   "display_name": "venv",
   "language": "python",
   "name": "python3"
  },
  "language_info": {
   "codemirror_mode": {
    "name": "ipython",
    "version": 3
   },
   "file_extension": ".py",
   "mimetype": "text/x-python",
   "name": "python",
   "nbconvert_exporter": "python",
   "pygments_lexer": "ipython3",
   "version": "3.13.0"
  }
 },
 "nbformat": 4,
 "nbformat_minor": 2
}
